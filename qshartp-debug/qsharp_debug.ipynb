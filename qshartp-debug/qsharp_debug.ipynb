{
 "cells": [
  {
   "cell_type": "code",
   "execution_count": null,
   "id": "87db24a6",
   "metadata": {},
   "outputs": [],
   "source": [
    "import numpy as np\n",
    "import qsharp\n",
    "from Qrng import SampleQuantumRandomNumberGenerator\n",
    "from Superposition import MeasureSuperposition, MeasureSuperpositionArray\n",
    "\n"
   ]
  },
  {
   "cell_type": "code",
   "execution_count": null,
   "id": "ca81ef9d",
   "metadata": {},
   "outputs": [],
   "source": [
    "np.mean([SampleQuantumRandomNumberGenerator.simulate() for i in range(100)])\n"
   ]
  },
  {
   "cell_type": "code",
   "execution_count": null,
   "id": "b5018134",
   "metadata": {},
   "outputs": [],
   "source": [
    "random_bit = MeasureSuperposition.simulate()\n",
    "print(random_bit)"
   ]
  },
  {
   "cell_type": "code",
   "execution_count": null,
   "id": "8f48942d",
   "metadata": {},
   "outputs": [],
   "source": [
    "MeasureSuperpositionArray.simulate(n=5)"
   ]
  },
  {
   "cell_type": "code",
   "execution_count": null,
   "id": "812fad66",
   "metadata": {},
   "outputs": [],
   "source": [
    "single_qubit_result = MeasureSuperposition.simulate()\n",
    "single_qubit_resources = MeasureSuperposition.estimate_resources()\n",
    "\n",
    "multi_qubit_result = MeasureSuperpositionArray.simulate(n=4)\n",
    "multi_qubit_resources = MeasureSuperpositionArray.estimate_resources(n=4)\n",
    "\n",
    "print('Single qubit:\\n' + str(single_qubit_result))\n",
    "print(single_qubit_resources)\n",
    "\n",
    "print('\\nMultiple qubits:\\n' + str(multi_qubit_result))\n",
    "print(multi_qubit_resources)"
   ]
  },
  {
   "cell_type": "code",
   "execution_count": null,
   "id": "34b16c5d",
   "metadata": {},
   "outputs": [],
   "source": []
  }
 ],
 "metadata": {
  "kernelspec": {
   "display_name": "Python (qnlp-ws)",
   "language": "python",
   "name": "qnlp-ws"
  },
  "language_info": {
   "codemirror_mode": {
    "name": "ipython",
    "version": 3
   },
   "file_extension": ".py",
   "mimetype": "text/x-python",
   "name": "python",
   "nbconvert_exporter": "python",
   "pygments_lexer": "ipython3",
   "version": "3.8.12"
  }
 },
 "nbformat": 4,
 "nbformat_minor": 5
}
