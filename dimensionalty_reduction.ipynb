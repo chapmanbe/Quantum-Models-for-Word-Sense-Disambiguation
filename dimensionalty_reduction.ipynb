{
 "cells": [
  {
   "cell_type": "markdown",
   "metadata": {},
   "source": [
    "# Dimensionality reduction"
   ]
  },
  {
   "cell_type": "code",
   "execution_count": null,
   "metadata": {},
   "outputs": [],
   "source": [
    "from urllib.request import urlretrieve"
   ]
  },
  {
   "cell_type": "code",
   "execution_count": null,
   "metadata": {},
   "outputs": [],
   "source": [
    "import urllib.request\n",
    "import bz2\n",
    "import os"
   ]
  },
  {
   "cell_type": "code",
   "execution_count": null,
   "metadata": {},
   "outputs": [],
   "source": [
    "RETRIEVE_DATA = False"
   ]
  },
  {
   "cell_type": "code",
   "execution_count": null,
   "metadata": {},
   "outputs": [],
   "source": [
    "if not os.path.exists(\"data\"):\n",
    "    os.mkdir(\"data\")"
   ]
  },
  {
   "cell_type": "code",
   "execution_count": null,
   "metadata": {},
   "outputs": [],
   "source": [
    "if RETRIEVE_DATA:\n",
    "    rslt = urlretrieve(\"http://wikipedia2vec.s3.amazonaws.com/models/en/2018-04-20/enwiki_20180420_100d.pkl.bz2\",\n",
    "                       filename=\"data/enwiki_20180420_100d.pkl.bz2\")\n",
    "\n",
    "    with bz2.open(\"data/enwiki_20180420_100d.pkl.bz2\", \"rb\") as f:\n",
    "        data = f.read()\n",
    "    with open(\"data/enwiki_20180420_100d.pkl\", \"wb\") as f:\n",
    "        f.write(data)"
   ]
  },
  {
   "cell_type": "code",
   "execution_count": null,
   "metadata": {},
   "outputs": [],
   "source": [
    "from wikipedia2vec import Wikipedia2Vec\n",
    "# download and unpack from http://wikipedia2vec.s3.amazonaws.com/models/en/2018-04-20/enwiki_20180420_100d.pkl.bz2\n",
    "wiki2vec = Wikipedia2Vec.load(\"data/enwiki_20180420_100d.pkl\")\n",
    "print(wiki2vec.get_word_vector(\"account\"))\n",
    "wiki2vec.most_similar(wiki2vec.get_word('nail'),10)"
   ]
  },
  {
   "cell_type": "code",
   "execution_count": null,
   "metadata": {},
   "outputs": [],
   "source": [
    "from words import nouns\n",
    "from pprint import pprint\n",
    "import numpy as np\n",
    "\n",
    "vecs = []\n",
    "for noun in nouns:\n",
    "    if noun == \"charge_n\":\n",
    "        vecs.append(wiki2vec.get_word_vector(\"charge\").tolist())\n",
    "    else:\n",
    "        vecs.append(wiki2vec.get_word_vector(noun).tolist())\n",
    "vecs = np.array(vecs)"
   ]
  },
  {
   "cell_type": "code",
   "execution_count": null,
   "metadata": {},
   "outputs": [],
   "source": [
    "vecs.shape"
   ]
  },
  {
   "cell_type": "code",
   "execution_count": null,
   "metadata": {},
   "outputs": [],
   "source": [
    "from sklearn.decomposition import PCA\n",
    "pca = PCA(n_components=4)\n",
    "vecs_new = pca.fit_transform(vecs)\n",
    "print(pca.explained_variance_ratio_)"
   ]
  },
  {
   "cell_type": "code",
   "execution_count": null,
   "metadata": {},
   "outputs": [],
   "source": [
    "vecs_new"
   ]
  },
  {
   "cell_type": "code",
   "execution_count": null,
   "metadata": {},
   "outputs": [],
   "source": [
    "sum_of_rows = np.linalg.norm(vecs_new,axis=1)\n",
    "normalized_array = vecs_new / sum_of_rows[:, np.newaxis]"
   ]
  },
  {
   "cell_type": "code",
   "execution_count": null,
   "metadata": {},
   "outputs": [],
   "source": [
    "new_noun_vectors = {}\n",
    "for i, noun in enumerate(nouns):\n",
    "   new_noun_vectors[noun] = normalized_array[i].tolist()"
   ]
  },
  {
   "cell_type": "code",
   "execution_count": null,
   "metadata": {},
   "outputs": [],
   "source": [
    "import json\n",
    "fiel_new_vectors = \"new_noun_vectors.json\"\n",
    "with open(fiel_new_vectors, 'w') as fp:\n",
    "    json.dump(new_noun_vectors, fp)"
   ]
  },
  {
   "cell_type": "code",
   "execution_count": null,
   "metadata": {},
   "outputs": [],
   "source": []
  }
 ],
 "metadata": {
  "kernelspec": {
   "display_name": "Python (qnlp-ws)",
   "language": "python",
   "name": "qnlp-ws"
  },
  "language_info": {
   "codemirror_mode": {
    "name": "ipython",
    "version": 3
   },
   "file_extension": ".py",
   "mimetype": "text/x-python",
   "name": "python",
   "nbconvert_exporter": "python",
   "pygments_lexer": "ipython3",
   "version": "3.8.12"
  },
  "metadata": {
   "interpreter": {
    "hash": "597cb9212bb6505db551d0fa5a39e44e38662ecd79044286d7f1c9c46fe55c66"
   }
  }
 },
 "nbformat": 4,
 "nbformat_minor": 2
}
