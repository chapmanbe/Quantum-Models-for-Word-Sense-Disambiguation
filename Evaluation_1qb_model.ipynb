{
 "cells": [
  {
   "cell_type": "markdown",
   "metadata": {},
   "source": [
    "# Evaluation for minimal example *file*"
   ]
  },
  {
   "cell_type": "code",
   "execution_count": null,
   "metadata": {},
   "outputs": [],
   "source": [
    "# load data\n",
    "import os\n",
    "import numpy as np\n",
    "\n",
    "best_sol_path = \"experiments/1_qubit_model\"\n",
    "print(best_sol_path)"
   ]
  },
  {
   "cell_type": "markdown",
   "metadata": {},
   "source": [
    "## Data analysis for results"
   ]
  },
  {
   "cell_type": "code",
   "execution_count": null,
   "metadata": {},
   "outputs": [],
   "source": [
    "import json\n",
    "res_path = os.path.join(best_sol_path,\"results.json\")\n",
    "with open(res_path) as json_file:\n",
    "    results = json.load(json_file)"
   ]
  },
  {
   "cell_type": "code",
   "execution_count": null,
   "metadata": {},
   "outputs": [],
   "source": [
    "from pprint import pprint\n",
    "pprint(results)"
   ]
  },
  {
   "cell_type": "code",
   "execution_count": null,
   "metadata": {},
   "outputs": [],
   "source": [
    "from scipy.stats import spearmanr\n",
    "# convert to numpy array\n",
    "results_np = np.array([results[r] for r in results])\n",
    "spearmanr(results_np)"
   ]
  },
  {
   "cell_type": "code",
   "execution_count": null,
   "metadata": {},
   "outputs": [],
   "source": [
    "import seaborn as sns\n",
    "import pandas as pd\n",
    "import matplotlib.pyplot as plt\n",
    "# create boxplots\n",
    "results_high = [results[r][1] for r in results if (results[r][0]==1 and r.split(\" \")[0] != \"file\")]\n",
    "highs = [\"High\" for i in range(len(results_high))]\n",
    "results_low = [1-results[r][1] for r in results if results[r][0]==0 and r.split(\" \")[0] != \"file\"]\n",
    "lows = [\"Low\" for i in range(len(results_low))]\n",
    "results_amb = [results[r][1] for r in results if (r.split(\" \")[0] == \"file\")]\n",
    "ambs = [\"Amb\" for i in range(len(results_amb))]\n",
    "data = pd.DataFrame({\"Similarity\": results_high+results_low+results_amb, \"type\": highs+lows+ambs})\n",
    "\n",
    "\n",
    "dims = (10,7)\n",
    "fig, ax = plt.subplots(figsize=dims)\n",
    "plt.rcParams[\"font.size\"] = \"18\"\n",
    "ax = sns.boxplot(ax=ax, x=\"type\", y=\"Similarity\", data=data)\n",
    "ax.set(ylim=(0.5, 1.1));\n"
   ]
  },
  {
   "cell_type": "markdown",
   "metadata": {},
   "source": [
    "## Visualize vector on Bloch Sphere"
   ]
  },
  {
   "cell_type": "code",
   "execution_count": null,
   "metadata": {},
   "outputs": [],
   "source": [
    "from discopy.quantum import Ket, H, Rx, Ry, Rz, CX, sqrt, X, Circuit\n",
    "from random import uniform\n",
    "from math import pi\n",
    "\n",
    "\n",
    "# Ansätze for 1-qubit states\n",
    "def un_amb_verb_ansatz(p):\n",
    "    return Ket(p[0])\n",
    "\n",
    "def amb_verb_ansatz(p):\n",
    "    return Ket(0) >> \\\n",
    "        Rx(p[0])\n",
    "\n",
    "def noun_ansatz(p):\n",
    "    return Ket(0) >> \\\n",
    "        Rx(p[0]) >> \\\n",
    "        Rz(p[1])\n",
    "\n",
    "\n",
    "n_qubits_ansatz = 1\n",
    "n_noun_params = 2\n",
    "n_amb_params = 0\n"
   ]
  },
  {
   "cell_type": "code",
   "execution_count": null,
   "metadata": {},
   "outputs": [],
   "source": [
    "import discopy.quantum as dq\n",
    "dq.Rx"
   ]
  },
  {
   "cell_type": "code",
   "execution_count": null,
   "metadata": {},
   "outputs": [],
   "source": [
    "params_amb_verbs_path = os.path.join(best_sol_path,\"parameters_amb_verbs.json\")\n",
    "with open(params_amb_verbs_path) as json_file:\n",
    "    params_amb_verbs = json.load(json_file)\n",
    "print(params_amb_verbs)\n",
    "\n",
    "params_unamb_verbs_path = os.path.join(best_sol_path,\"parameters_unamb_verbs.json\")\n",
    "with open(params_unamb_verbs_path) as json_file:\n",
    "    params_unamb_verbs = json.load(json_file)\n",
    "print(params_unamb_verbs)\n",
    "\n",
    "params_nouns_path = os.path.join(best_sol_path,\"params_nouns.json\")\n",
    "with open(params_nouns_path) as json_file:\n",
    "    params_nouns = json.load(json_file)\n",
    "print(params_nouns)\n"
   ]
  },
  {
   "cell_type": "code",
   "execution_count": null,
   "metadata": {},
   "outputs": [],
   "source": [
    "import qutip\n",
    "from qutip.expect import expect\n",
    "from qutip.operators import sigmax, sigmay, sigmaz\n",
    "from qutip import Qobj\n",
    "\n",
    "def convert_to_bloch_vec(states):\n",
    "    if isinstance(states, Qobj):\n",
    "        states = [states]\n",
    "    \n",
    "    vecs = []\n",
    "    for state in states:\n",
    "        vec = [expect(sigmax(), state),\n",
    "                expect(sigmay(), state),\n",
    "                expect(sigmaz(), state)]\n",
    "        vecs.append(vec)\n",
    "    return np.transpose(np.array(vecs))\n",
    "\n",
    "\n",
    "vec = qutip.Qobj(amb_verb_ansatz(params_amb_verbs[\"file\"]).eval().array)\n",
    "unamb_verb_states = [qutip.Qobj(un_amb_verb_ansatz(params_unamb_verbs[verb]).eval().array) for verb in params_unamb_verbs]\n",
    "noun_states_reg = convert_to_bloch_vec([qutip.Qobj(noun_ansatz(params_nouns[noun]).eval().array) for noun in params_nouns if results[\"register \"+noun+\".\"][0]==1])\n",
    "noun_states_smo = convert_to_bloch_vec([qutip.Qobj(noun_ansatz(params_nouns[noun]).eval().array) for noun in params_nouns if results[\"smooth \"+noun+\".\"][0]==1])\n"
   ]
  },
  {
   "cell_type": "code",
   "execution_count": null,
   "metadata": {},
   "outputs": [],
   "source": [
    "vec"
   ]
  },
  {
   "cell_type": "code",
   "execution_count": null,
   "metadata": {},
   "outputs": [],
   "source": [
    "%matplotlib inline\n",
    "b = qutip.Bloch(figsize=(7, 10))\n",
    "b.add_states(vec)\n",
    "b.add_states(unamb_verb_states)\n",
    "b.add_points(noun_states_reg,meth=\"s\")\n",
    "b.add_points(noun_states_smo,meth=\"s\")\n",
    "b.render()"
   ]
  },
  {
   "cell_type": "markdown",
   "metadata": {},
   "source": [
    "## Make animation with evolution data"
   ]
  },
  {
   "cell_type": "code",
   "execution_count": null,
   "metadata": {},
   "outputs": [],
   "source": [
    "params_evo_path = os.path.join(best_sol_path,\"params_evolution_noisy.json\")\n",
    "with open(params_evo_path) as json_file:\n",
    "    params_evolution = json.load(json_file)"
   ]
  },
  {
   "cell_type": "code",
   "execution_count": null,
   "metadata": {},
   "outputs": [],
   "source": [
    "import matplotlib\n",
    "from matplotlib import pyplot, animation\n",
    "from mpl_toolkits.mplot3d import Axes3D\n",
    "\n",
    "fig = pyplot.figure(figsize=(7,7),dpi=300)\n",
    "ax = Axes3D(fig,azim=-40,elev=30)\n",
    "sphere = qutip.Bloch(axes=ax)\n",
    "\n",
    "def animate(frame):\n",
    "    params_amb_verbs = params_evolution[frame][\"amb_verbs\"]\n",
    "    params_nouns = params_evolution[frame][\"nouns\"]\n",
    "\n",
    "    vec = qutip.Qobj(amb_verb_ansatz(params_amb_verbs[\"file\"]).eval().array)\n",
    "    unamb_verb_states = [qutip.Qobj(un_amb_verb_ansatz(params_unamb_verbs[verb]).eval().array) for verb in params_unamb_verbs]\n",
    "    noun_states_reg = convert_to_bloch_vec([qutip.Qobj(noun_ansatz(params_nouns[noun]).eval().array) for noun in params_nouns if results[\"register \"+noun+\".\"][0]==1])\n",
    "    noun_states_smo = convert_to_bloch_vec([qutip.Qobj(noun_ansatz(params_nouns[noun]).eval().array) for noun in params_nouns if results[\"smooth \"+noun+\".\"][0]==1])\n",
    "    \n",
    "    sphere.clear()\n",
    "    sphere.add_states(vec)\n",
    "    sphere.add_states(unamb_verb_states)\n",
    "    sphere.add_points(noun_states_reg, meth=\"s\")\n",
    "    sphere.add_points(noun_states_smo, meth=\"s\")\n",
    "    sphere.make_sphere()\n",
    "\n",
    "    return ax\n",
    "\n",
    "def init():\n",
    "   return ax\n",
    "\n",
    "ani = animation.FuncAnimation(fig, animate, list(params_evolution.keys())[0:-1],\n",
    "                              init_func=init, repeat=False);\n",
    "ani.save('bloch_sphere.mp4', fps=30);"
   ]
  },
  {
   "cell_type": "markdown",
   "metadata": {},
   "source": [
    "## Plot SPSA fit"
   ]
  },
  {
   "cell_type": "code",
   "execution_count": null,
   "metadata": {},
   "outputs": [],
   "source": [
    "import matplotlib.pyplot as plt\n",
    "\n",
    "loss = params_evolution[\"loss\"]\n",
    "\n",
    "dims = (10,7)\n",
    "fig, ax = plt.subplots(figsize=dims)\n",
    "plt.rcParams[\"font.size\"] = \"14\"\n",
    "plt.plot(range(len(loss)), loss, '-b', label='loss')\n",
    "plt.xlabel(\"Iteration\")\n",
    "plt.ylabel(\"MSE\")\n",
    "plt.legend(loc='upper right')\n",
    "plt.title(\"SPSA optimization 1-qubit example\")"
   ]
  },
  {
   "cell_type": "markdown",
   "metadata": {},
   "source": [
    "## Plot blochsphere process"
   ]
  },
  {
   "cell_type": "code",
   "execution_count": null,
   "metadata": {},
   "outputs": [],
   "source": [
    "%matplotlib inline\n",
    "frames = list(params_evolution.keys())[0:-1]\n",
    "frames_to_plot = [frames[0], frames[49], frames[99], frames[199]]\n",
    "\n",
    "dims = (7,7)\n",
    "fig, ax = plt.subplots(figsize=dims)\n",
    "ax = Axes3D(fig,azim=-40,elev=30)\n",
    "sphere = qutip.Bloch(axes=ax)\n",
    "\n",
    "frame = frames_to_plot[0]\n",
    "params_amb_verbs = params_evolution[frame][\"amb_verbs\"]\n",
    "params_nouns = params_evolution[frame][\"nouns\"]\n",
    "\n",
    "vec = qutip.Qobj(amb_verb_ansatz(params_amb_verbs[\"file\"]).eval().array)\n",
    "unamb_verb_states = [qutip.Qobj(un_amb_verb_ansatz(params_unamb_verbs[verb]).eval().array) for verb in params_unamb_verbs]\n",
    "noun_states_reg = convert_to_bloch_vec([qutip.Qobj(noun_ansatz(params_nouns[noun]).eval().array) for noun in params_nouns if results[\"register \"+noun+\".\"][0]==1])\n",
    "noun_states_smo = convert_to_bloch_vec([qutip.Qobj(noun_ansatz(params_nouns[noun]).eval().array) for noun in params_nouns if results[\"smooth \"+noun+\".\"][0]==1])\n",
    "\n",
    "sphere.clear()\n",
    "sphere.add_states(vec)\n",
    "sphere.add_states(unamb_verb_states)\n",
    "sphere.add_points(noun_states_reg, meth=\"s\")\n",
    "sphere.add_points(noun_states_smo, meth=\"s\")\n",
    "sphere.render()"
   ]
  },
  {
   "cell_type": "code",
   "execution_count": null,
   "metadata": {},
   "outputs": [],
   "source": []
  }
 ],
 "metadata": {
  "kernelspec": {
   "display_name": "Python (qnlp-ws)",
   "language": "python",
   "name": "qnlp-ws"
  },
  "language_info": {
   "codemirror_mode": {
    "name": "ipython",
    "version": 3
   },
   "file_extension": ".py",
   "mimetype": "text/x-python",
   "name": "python",
   "nbconvert_exporter": "python",
   "pygments_lexer": "ipython3",
   "version": "3.8.12"
  },
  "metadata": {
   "interpreter": {
    "hash": "597cb9212bb6505db551d0fa5a39e44e38662ecd79044286d7f1c9c46fe55c66"
   }
  }
 },
 "nbformat": 4,
 "nbformat_minor": 2
}
